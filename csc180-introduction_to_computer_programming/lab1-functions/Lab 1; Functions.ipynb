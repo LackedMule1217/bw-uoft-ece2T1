{
 "cells": [
  {
   "cell_type": "code",
   "execution_count": 3,
   "metadata": {},
   "outputs": [
    {
     "name": "stdout",
     "output_type": "stream",
     "text": [
      "Enter a string to be palindromized: racecar\n",
      "racecaracecar\n"
     ]
    }
   ],
   "source": [
    "# <shijie wei> <1003846760>\n",
    "\n",
    "\"\"\"* Write a function Palindromize(word) that returns a palindrome\n",
    "   generated from the input word as you can infer from the example below:\n",
    "      Palindromize(\"abc\") -> \"abcba\"\n",
    "   Hint 1: range(a,b,c) generates a list from \"a\" to \"b\" in steps of \"c\" NOT including \"b\"\n",
    "   Hint 2: c can be negative, if you want to go downwards\n",
    "   Hint 3: the length of a word is \"len(word)\"\n",
    "           the first char is word[0]\n",
    "   Hint 4: you can concatenate a string from its letters via \"+\"\n",
    "   Hint 5: if I wanted to re-construct a string by concatenation of its letters:\n",
    "           accumulator = ''\n",
    "           for i in range(0,len(word),1):\n",
    "              accumulator = accumulator + word[i]\"\"\"\n",
    "\n",
    "def Palindromize():\n",
    "    #below is the datapath\n",
    "    word=str(raw_input(\"Enter a string to be palindromized: \"))\n",
    "\n",
    "    #below is the control\n",
    "    word+=(word[len(word)-2::-1])\n",
    "\n",
    "    print(word)\n",
    "\n",
    "Palindromize()\n"
   ]
  },
  {
   "cell_type": "code",
   "execution_count": 11,
   "metadata": {},
   "outputs": [
    {
     "name": "stdout",
     "output_type": "stream",
     "text": [
      "Enter a number to be square rooted: 500\n",
      "Enter the desired accuracy of the answer (such as 0.001): 0.01\n",
      "22.36\n"
     ]
    }
   ],
   "source": [
    "\"\"\"* Write a function \"babylonSqrt(x,accuracy)\" that takes in\n",
    "   \"x\" (whose square root we want to determine), and \"accuracy\" (the desired\n",
    "   accuracy of the answer), and returns the square root of \"x\" calculated\n",
    "   via the Babylonian method of square roots\"\"\"\n",
    "\n",
    "#Datapath\n",
    "import math\n",
    "\n",
    "while True:\n",
    "\ttry:\n",
    "\t\tnumber = float(raw_input(\"Enter a number to be square rooted: \"))\n",
    "\t\taccuracy = float(raw_input(\"Enter the desired accuracy of the answer (such as 0.001): \"))\n",
    "\t\tassert number/abs(number)==1\n",
    "\t\tassert accuracy < 1\n",
    "\t\tbreak\n",
    "\texcept:\n",
    "\t\tprint(\"ERR\")\n",
    "\n",
    "#Control\n",
    "def babylonSqrt(x, accuracy):\n",
    "    guess = x/2\n",
    "    while True:\n",
    "        check=x/guess\n",
    "        guess=0.5*(guess+check)\n",
    "\n",
    "        if abs(guess**2-x) < accuracy:\n",
    "            print(round(guess, int(abs(round((math.log(accuracy, 10)),0)))))\n",
    "            break\n",
    "        else:\n",
    "            continue\n",
    "\n",
    "babylonSqrt(number, accuracy)"
   ]
  },
  {
   "cell_type": "code",
   "execution_count": 36,
   "metadata": {},
   "outputs": [
    {
     "name": "stdout",
     "output_type": "stream",
     "text": [
      "Enter the number of terms to calculate pi: 300\n",
      "3.14491490356\n"
     ]
    }
   ],
   "source": [
    " \"\"\"* Write a function \"LeibnizPi(n)\" that computes Pi according to the\n",
    "   Leibniz formula, using \"n\" terms of the right-hand side series as per\n",
    "   the definition below:\n",
    "     pi/4 - 1 = - 1/3 + 1/5 - 1/7 + 1/9 - ... 1/(2*n+1)\"\"\"\n",
    "\n",
    "#Datapath\n",
    "while True:\n",
    "    try:\n",
    "        number = int(raw_input(\"Enter the number of terms to calculate pi: \"))\n",
    "        assert number / abs(number) == 1\n",
    "        break\n",
    "    except:\n",
    "        print(\"ERR\")\n",
    "\n",
    "#Control\n",
    "def LeibnizPi(n):\n",
    "\tresult = 0\n",
    "\tfor a in range(1, n+1, 2):\n",
    "\t\tresult += -(1/float(2*a+1))\n",
    "\tfor b in range(2, n+1, 2):\n",
    "\t\tresult += (1/float(2*b+1))\n",
    "\tresult = (result+1)*4\n",
    "\tprint(result)\n",
    "\n",
    "LeibnizPi(number)"
   ]
  },
  {
   "cell_type": "code",
   "execution_count": null,
   "metadata": {
    "collapsed": true
   },
   "outputs": [],
   "source": []
  },
  {
   "cell_type": "code",
   "execution_count": null,
   "metadata": {
    "collapsed": true
   },
   "outputs": [],
   "source": []
  }
 ],
 "metadata": {
  "kernelspec": {
   "display_name": "Python 2",
   "language": "python",
   "name": "python2"
  },
  "language_info": {
   "codemirror_mode": {
    "name": "ipython",
    "version": 2
   },
   "file_extension": ".py",
   "mimetype": "text/x-python",
   "name": "python",
   "nbconvert_exporter": "python",
   "pygments_lexer": "ipython2",
   "version": "2.7.2"
  }
 },
 "nbformat": 4,
 "nbformat_minor": 2
}
